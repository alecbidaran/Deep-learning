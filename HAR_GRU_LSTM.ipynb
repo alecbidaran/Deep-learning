{
  "nbformat": 4,
  "nbformat_minor": 0,
  "metadata": {
    "colab": {
      "name": "HAR_GRU_LSTM.ipynb",
      "provenance": [],
      "collapsed_sections": [],
      "authorship_tag": "ABX9TyMON5XGcFiTVKw4xEzB+o4p",
      "include_colab_link": true
    },
    "kernelspec": {
      "name": "python3",
      "display_name": "Python 3"
    },
    "accelerator": "GPU"
  },
  "cells": [
    {
      "cell_type": "markdown",
      "metadata": {
        "id": "view-in-github",
        "colab_type": "text"
      },
      "source": [
        "<a href=\"https://colab.research.google.com/github/alecbidaran/Deep-learning/blob/main/HAR_GRU_LSTM.ipynb\" target=\"_parent\"><img src=\"https://colab.research.google.com/assets/colab-badge.svg\" alt=\"Open In Colab\"/></a>"
      ]
    },
    {
      "cell_type": "code",
      "metadata": {
        "id": "VAqFtDBMXWr6"
      },
      "source": [
        "from tensorflow.keras.losses import binary_crossentropy, mean_squared_error\n",
        "import tensorflow.keras.backend as K\n",
        "from tensorflow.keras.models import Model\n",
        "from tensorflow.keras.layers import Input, concatenate, Conv2D, MaxPooling3D, Activation, UpSampling2D, BatchNormalization, add, concatenate, Lambda, Flatten, Conv2DTranspose,DepthwiseConv2D,ConvLSTM2D,TimeDistributed,Dropout\n",
        "from tensorflow.keras.optimizers import RMSprop,Adam\n",
        "import tensorflow.keras as keras \n",
        "import tensorflow as tf\n",
        "import numpy as np \n",
        "import cv2 \n",
        "import os \n",
        "from scipy import stats\n",
        "from sklearn.preprocessing import LabelEncoder"
      ],
      "execution_count": 140,
      "outputs": []
    },
    {
      "cell_type": "code",
      "metadata": {
        "id": "DpbCjIMKY7Qb",
        "colab": {
          "base_uri": "https://localhost:8080/"
        },
        "outputId": "ac714d22-01af-4197-dfc2-5326d51e242d"
      },
      "source": [
        "!git clone https://github.com/bartkowiaktomasz/har-wisdm-lstm-rnns.git"
      ],
      "execution_count": 141,
      "outputs": [
        {
          "output_type": "stream",
          "text": [
            "fatal: destination path 'har-wisdm-lstm-rnns' already exists and is not an empty directory.\n"
          ],
          "name": "stdout"
        }
      ]
    },
    {
      "cell_type": "code",
      "metadata": {
        "id": "55DSXypbZIqo"
      },
      "source": [
        "import pandas as pd \n",
        "from scipy.io import arff\n",
        "COLUMN_NAMES = [\n",
        "    'user',\n",
        "    'activity',\n",
        "    'timestamp',\n",
        "    'x-axis',\n",
        "    'y-axis',\n",
        "    'z-axis'\n",
        "]\n",
        "LABELS = [\n",
        "    'Downstairs',\n",
        "    'Jogging',\n",
        "    'Sitting',\n",
        "    'Standing',\n",
        "    'Upstairs',\n",
        "    'Walking'\n",
        "]\n",
        "dataset=pd.read_csv(\"/content/har-wisdm-lstm-rnns/data/WISDM_ar_v1.1_raw.txt\",header=None,names=COLUMN_NAMES )\n"
      ],
      "execution_count": 142,
      "outputs": []
    },
    {
      "cell_type": "code",
      "metadata": {
        "id": "JCwGvCerZBOb",
        "colab": {
          "base_uri": "https://localhost:8080/",
          "height": 417
        },
        "outputId": "161ae79b-9eb8-47b4-a5b0-df87cc8a6e5e"
      },
      "source": [
        "dataset['z-axis'].replace(to_replace=r';',value=r'',regex=True,inplace=True)\n",
        "dataset['z-axis'] = dataset['z-axis'].astype('float')\n",
        "dataset.dropna(axis=0, how='any', inplace=True)\n",
        "dataset.sample(100)"
      ],
      "execution_count": 143,
      "outputs": [
        {
          "output_type": "execute_result",
          "data": {
            "text/html": [
              "<div>\n",
              "<style scoped>\n",
              "    .dataframe tbody tr th:only-of-type {\n",
              "        vertical-align: middle;\n",
              "    }\n",
              "\n",
              "    .dataframe tbody tr th {\n",
              "        vertical-align: top;\n",
              "    }\n",
              "\n",
              "    .dataframe thead th {\n",
              "        text-align: right;\n",
              "    }\n",
              "</style>\n",
              "<table border=\"1\" class=\"dataframe\">\n",
              "  <thead>\n",
              "    <tr style=\"text-align: right;\">\n",
              "      <th></th>\n",
              "      <th>user</th>\n",
              "      <th>activity</th>\n",
              "      <th>timestamp</th>\n",
              "      <th>x-axis</th>\n",
              "      <th>y-axis</th>\n",
              "      <th>z-axis</th>\n",
              "    </tr>\n",
              "  </thead>\n",
              "  <tbody>\n",
              "    <tr>\n",
              "      <th>1046704</th>\n",
              "      <td>7</td>\n",
              "      <td>Upstairs</td>\n",
              "      <td>209041271638000</td>\n",
              "      <td>-7.12</td>\n",
              "      <td>1.88</td>\n",
              "      <td>-1.330000</td>\n",
              "    </tr>\n",
              "    <tr>\n",
              "      <th>281885</th>\n",
              "      <td>32</td>\n",
              "      <td>Walking</td>\n",
              "      <td>23446093459000</td>\n",
              "      <td>-0.53</td>\n",
              "      <td>13.21</td>\n",
              "      <td>0.721878</td>\n",
              "    </tr>\n",
              "    <tr>\n",
              "      <th>652624</th>\n",
              "      <td>23</td>\n",
              "      <td>Walking</td>\n",
              "      <td>354192302000</td>\n",
              "      <td>-2.03</td>\n",
              "      <td>13.59</td>\n",
              "      <td>-7.500000</td>\n",
              "    </tr>\n",
              "    <tr>\n",
              "      <th>457874</th>\n",
              "      <td>35</td>\n",
              "      <td>Sitting</td>\n",
              "      <td>155862315000</td>\n",
              "      <td>4.71</td>\n",
              "      <td>7.12</td>\n",
              "      <td>5.560000</td>\n",
              "    </tr>\n",
              "    <tr>\n",
              "      <th>955072</th>\n",
              "      <td>1</td>\n",
              "      <td>Walking</td>\n",
              "      <td>5733572339000</td>\n",
              "      <td>-7.89</td>\n",
              "      <td>13.21</td>\n",
              "      <td>-0.760000</td>\n",
              "    </tr>\n",
              "    <tr>\n",
              "      <th>...</th>\n",
              "      <td>...</td>\n",
              "      <td>...</td>\n",
              "      <td>...</td>\n",
              "      <td>...</td>\n",
              "      <td>...</td>\n",
              "      <td>...</td>\n",
              "    </tr>\n",
              "    <tr>\n",
              "      <th>146791</th>\n",
              "      <td>15</td>\n",
              "      <td>Jogging</td>\n",
              "      <td>927332286000</td>\n",
              "      <td>18.81</td>\n",
              "      <td>-0.80</td>\n",
              "      <td>4.753501</td>\n",
              "    </tr>\n",
              "    <tr>\n",
              "      <th>988415</th>\n",
              "      <td>2</td>\n",
              "      <td>Walking</td>\n",
              "      <td>8119752424000</td>\n",
              "      <td>-4.52</td>\n",
              "      <td>13.14</td>\n",
              "      <td>-1.950000</td>\n",
              "    </tr>\n",
              "    <tr>\n",
              "      <th>577996</th>\n",
              "      <td>20</td>\n",
              "      <td>Sitting</td>\n",
              "      <td>59067202282000</td>\n",
              "      <td>-3.02</td>\n",
              "      <td>3.11</td>\n",
              "      <td>9.080000</td>\n",
              "    </tr>\n",
              "    <tr>\n",
              "      <th>358902</th>\n",
              "      <td>16</td>\n",
              "      <td>Walking</td>\n",
              "      <td>5429032298000</td>\n",
              "      <td>17.16</td>\n",
              "      <td>-0.89</td>\n",
              "      <td>3.405087</td>\n",
              "    </tr>\n",
              "    <tr>\n",
              "      <th>119056</th>\n",
              "      <td>13</td>\n",
              "      <td>Walking</td>\n",
              "      <td>2058842326000</td>\n",
              "      <td>1.31</td>\n",
              "      <td>13.63</td>\n",
              "      <td>2.642348</td>\n",
              "    </tr>\n",
              "  </tbody>\n",
              "</table>\n",
              "<p>100 rows × 6 columns</p>\n",
              "</div>"
            ],
            "text/plain": [
              "         user  activity        timestamp  x-axis  y-axis    z-axis\n",
              "1046704     7  Upstairs  209041271638000   -7.12    1.88 -1.330000\n",
              "281885     32   Walking   23446093459000   -0.53   13.21  0.721878\n",
              "652624     23   Walking     354192302000   -2.03   13.59 -7.500000\n",
              "457874     35   Sitting     155862315000    4.71    7.12  5.560000\n",
              "955072      1   Walking    5733572339000   -7.89   13.21 -0.760000\n",
              "...       ...       ...              ...     ...     ...       ...\n",
              "146791     15   Jogging     927332286000   18.81   -0.80  4.753501\n",
              "988415      2   Walking    8119752424000   -4.52   13.14 -1.950000\n",
              "577996     20   Sitting   59067202282000   -3.02    3.11  9.080000\n",
              "358902     16   Walking    5429032298000   17.16   -0.89  3.405087\n",
              "119056     13   Walking    2058842326000    1.31   13.63  2.642348\n",
              "\n",
              "[100 rows x 6 columns]"
            ]
          },
          "metadata": {
            "tags": []
          },
          "execution_count": 143
        }
      ]
    },
    {
      "cell_type": "code",
      "metadata": {
        "id": "c4dO93fmZRQ6",
        "colab": {
          "base_uri": "https://localhost:8080/",
          "height": 417
        },
        "outputId": "0f604010-748b-4265-c153-14039f4a83b9"
      },
      "source": [
        "dataset[['timestamp','x-axis','y-axis','z-axis','activity']]\n"
      ],
      "execution_count": 144,
      "outputs": [
        {
          "output_type": "execute_result",
          "data": {
            "text/html": [
              "<div>\n",
              "<style scoped>\n",
              "    .dataframe tbody tr th:only-of-type {\n",
              "        vertical-align: middle;\n",
              "    }\n",
              "\n",
              "    .dataframe tbody tr th {\n",
              "        vertical-align: top;\n",
              "    }\n",
              "\n",
              "    .dataframe thead th {\n",
              "        text-align: right;\n",
              "    }\n",
              "</style>\n",
              "<table border=\"1\" class=\"dataframe\">\n",
              "  <thead>\n",
              "    <tr style=\"text-align: right;\">\n",
              "      <th></th>\n",
              "      <th>timestamp</th>\n",
              "      <th>x-axis</th>\n",
              "      <th>y-axis</th>\n",
              "      <th>z-axis</th>\n",
              "      <th>activity</th>\n",
              "    </tr>\n",
              "  </thead>\n",
              "  <tbody>\n",
              "    <tr>\n",
              "      <th>0</th>\n",
              "      <td>49105962326000</td>\n",
              "      <td>-0.694638</td>\n",
              "      <td>12.680544</td>\n",
              "      <td>0.503953</td>\n",
              "      <td>Jogging</td>\n",
              "    </tr>\n",
              "    <tr>\n",
              "      <th>1</th>\n",
              "      <td>49106062271000</td>\n",
              "      <td>5.012288</td>\n",
              "      <td>11.264028</td>\n",
              "      <td>0.953424</td>\n",
              "      <td>Jogging</td>\n",
              "    </tr>\n",
              "    <tr>\n",
              "      <th>2</th>\n",
              "      <td>49106112167000</td>\n",
              "      <td>4.903325</td>\n",
              "      <td>10.882658</td>\n",
              "      <td>-0.081722</td>\n",
              "      <td>Jogging</td>\n",
              "    </tr>\n",
              "    <tr>\n",
              "      <th>3</th>\n",
              "      <td>49106222305000</td>\n",
              "      <td>-0.612916</td>\n",
              "      <td>18.496431</td>\n",
              "      <td>3.023717</td>\n",
              "      <td>Jogging</td>\n",
              "    </tr>\n",
              "    <tr>\n",
              "      <th>4</th>\n",
              "      <td>49106332290000</td>\n",
              "      <td>-1.184970</td>\n",
              "      <td>12.108489</td>\n",
              "      <td>7.205164</td>\n",
              "      <td>Jogging</td>\n",
              "    </tr>\n",
              "    <tr>\n",
              "      <th>...</th>\n",
              "      <td>...</td>\n",
              "      <td>...</td>\n",
              "      <td>...</td>\n",
              "      <td>...</td>\n",
              "      <td>...</td>\n",
              "    </tr>\n",
              "    <tr>\n",
              "      <th>1098199</th>\n",
              "      <td>131623331483000</td>\n",
              "      <td>9.000000</td>\n",
              "      <td>-1.570000</td>\n",
              "      <td>1.690000</td>\n",
              "      <td>Sitting</td>\n",
              "    </tr>\n",
              "    <tr>\n",
              "      <th>1098200</th>\n",
              "      <td>131623371431000</td>\n",
              "      <td>9.040000</td>\n",
              "      <td>-1.460000</td>\n",
              "      <td>1.730000</td>\n",
              "      <td>Sitting</td>\n",
              "    </tr>\n",
              "    <tr>\n",
              "      <th>1098201</th>\n",
              "      <td>131623411592000</td>\n",
              "      <td>9.080000</td>\n",
              "      <td>-1.380000</td>\n",
              "      <td>1.690000</td>\n",
              "      <td>Sitting</td>\n",
              "    </tr>\n",
              "    <tr>\n",
              "      <th>1098202</th>\n",
              "      <td>131623491487000</td>\n",
              "      <td>9.000000</td>\n",
              "      <td>-1.460000</td>\n",
              "      <td>1.730000</td>\n",
              "      <td>Sitting</td>\n",
              "    </tr>\n",
              "    <tr>\n",
              "      <th>1098203</th>\n",
              "      <td>131623531465000</td>\n",
              "      <td>8.880000</td>\n",
              "      <td>-1.330000</td>\n",
              "      <td>1.610000</td>\n",
              "      <td>Sitting</td>\n",
              "    </tr>\n",
              "  </tbody>\n",
              "</table>\n",
              "<p>1098203 rows × 5 columns</p>\n",
              "</div>"
            ],
            "text/plain": [
              "               timestamp    x-axis     y-axis    z-axis activity\n",
              "0         49105962326000 -0.694638  12.680544  0.503953  Jogging\n",
              "1         49106062271000  5.012288  11.264028  0.953424  Jogging\n",
              "2         49106112167000  4.903325  10.882658 -0.081722  Jogging\n",
              "3         49106222305000 -0.612916  18.496431  3.023717  Jogging\n",
              "4         49106332290000 -1.184970  12.108489  7.205164  Jogging\n",
              "...                  ...       ...        ...       ...      ...\n",
              "1098199  131623331483000  9.000000  -1.570000  1.690000  Sitting\n",
              "1098200  131623371431000  9.040000  -1.460000  1.730000  Sitting\n",
              "1098201  131623411592000  9.080000  -1.380000  1.690000  Sitting\n",
              "1098202  131623491487000  9.000000  -1.460000  1.730000  Sitting\n",
              "1098203  131623531465000  8.880000  -1.330000  1.610000  Sitting\n",
              "\n",
              "[1098203 rows x 5 columns]"
            ]
          },
          "metadata": {
            "tags": []
          },
          "execution_count": 144
        }
      ]
    },
    {
      "cell_type": "code",
      "metadata": {
        "id": "Uv3I7cbBZV4B",
        "colab": {
          "base_uri": "https://localhost:8080/",
          "height": 417
        },
        "outputId": "ef3745a3-1cc2-43e6-9a78-5ab521d8f120"
      },
      "source": [
        "enc = LabelEncoder()\n",
        "labeled=enc.fit_transform(dataset.loc[:,('activity')].ravel())\n",
        "dataset['labeled_activites']=labeled\n",
        "dataset"
      ],
      "execution_count": 145,
      "outputs": [
        {
          "output_type": "execute_result",
          "data": {
            "text/html": [
              "<div>\n",
              "<style scoped>\n",
              "    .dataframe tbody tr th:only-of-type {\n",
              "        vertical-align: middle;\n",
              "    }\n",
              "\n",
              "    .dataframe tbody tr th {\n",
              "        vertical-align: top;\n",
              "    }\n",
              "\n",
              "    .dataframe thead th {\n",
              "        text-align: right;\n",
              "    }\n",
              "</style>\n",
              "<table border=\"1\" class=\"dataframe\">\n",
              "  <thead>\n",
              "    <tr style=\"text-align: right;\">\n",
              "      <th></th>\n",
              "      <th>user</th>\n",
              "      <th>activity</th>\n",
              "      <th>timestamp</th>\n",
              "      <th>x-axis</th>\n",
              "      <th>y-axis</th>\n",
              "      <th>z-axis</th>\n",
              "      <th>labeled_activites</th>\n",
              "    </tr>\n",
              "  </thead>\n",
              "  <tbody>\n",
              "    <tr>\n",
              "      <th>0</th>\n",
              "      <td>33</td>\n",
              "      <td>Jogging</td>\n",
              "      <td>49105962326000</td>\n",
              "      <td>-0.694638</td>\n",
              "      <td>12.680544</td>\n",
              "      <td>0.503953</td>\n",
              "      <td>1</td>\n",
              "    </tr>\n",
              "    <tr>\n",
              "      <th>1</th>\n",
              "      <td>33</td>\n",
              "      <td>Jogging</td>\n",
              "      <td>49106062271000</td>\n",
              "      <td>5.012288</td>\n",
              "      <td>11.264028</td>\n",
              "      <td>0.953424</td>\n",
              "      <td>1</td>\n",
              "    </tr>\n",
              "    <tr>\n",
              "      <th>2</th>\n",
              "      <td>33</td>\n",
              "      <td>Jogging</td>\n",
              "      <td>49106112167000</td>\n",
              "      <td>4.903325</td>\n",
              "      <td>10.882658</td>\n",
              "      <td>-0.081722</td>\n",
              "      <td>1</td>\n",
              "    </tr>\n",
              "    <tr>\n",
              "      <th>3</th>\n",
              "      <td>33</td>\n",
              "      <td>Jogging</td>\n",
              "      <td>49106222305000</td>\n",
              "      <td>-0.612916</td>\n",
              "      <td>18.496431</td>\n",
              "      <td>3.023717</td>\n",
              "      <td>1</td>\n",
              "    </tr>\n",
              "    <tr>\n",
              "      <th>4</th>\n",
              "      <td>33</td>\n",
              "      <td>Jogging</td>\n",
              "      <td>49106332290000</td>\n",
              "      <td>-1.184970</td>\n",
              "      <td>12.108489</td>\n",
              "      <td>7.205164</td>\n",
              "      <td>1</td>\n",
              "    </tr>\n",
              "    <tr>\n",
              "      <th>...</th>\n",
              "      <td>...</td>\n",
              "      <td>...</td>\n",
              "      <td>...</td>\n",
              "      <td>...</td>\n",
              "      <td>...</td>\n",
              "      <td>...</td>\n",
              "      <td>...</td>\n",
              "    </tr>\n",
              "    <tr>\n",
              "      <th>1098199</th>\n",
              "      <td>19</td>\n",
              "      <td>Sitting</td>\n",
              "      <td>131623331483000</td>\n",
              "      <td>9.000000</td>\n",
              "      <td>-1.570000</td>\n",
              "      <td>1.690000</td>\n",
              "      <td>2</td>\n",
              "    </tr>\n",
              "    <tr>\n",
              "      <th>1098200</th>\n",
              "      <td>19</td>\n",
              "      <td>Sitting</td>\n",
              "      <td>131623371431000</td>\n",
              "      <td>9.040000</td>\n",
              "      <td>-1.460000</td>\n",
              "      <td>1.730000</td>\n",
              "      <td>2</td>\n",
              "    </tr>\n",
              "    <tr>\n",
              "      <th>1098201</th>\n",
              "      <td>19</td>\n",
              "      <td>Sitting</td>\n",
              "      <td>131623411592000</td>\n",
              "      <td>9.080000</td>\n",
              "      <td>-1.380000</td>\n",
              "      <td>1.690000</td>\n",
              "      <td>2</td>\n",
              "    </tr>\n",
              "    <tr>\n",
              "      <th>1098202</th>\n",
              "      <td>19</td>\n",
              "      <td>Sitting</td>\n",
              "      <td>131623491487000</td>\n",
              "      <td>9.000000</td>\n",
              "      <td>-1.460000</td>\n",
              "      <td>1.730000</td>\n",
              "      <td>2</td>\n",
              "    </tr>\n",
              "    <tr>\n",
              "      <th>1098203</th>\n",
              "      <td>19</td>\n",
              "      <td>Sitting</td>\n",
              "      <td>131623531465000</td>\n",
              "      <td>8.880000</td>\n",
              "      <td>-1.330000</td>\n",
              "      <td>1.610000</td>\n",
              "      <td>2</td>\n",
              "    </tr>\n",
              "  </tbody>\n",
              "</table>\n",
              "<p>1098203 rows × 7 columns</p>\n",
              "</div>"
            ],
            "text/plain": [
              "         user activity        timestamp  ...     y-axis    z-axis  labeled_activites\n",
              "0          33  Jogging   49105962326000  ...  12.680544  0.503953                  1\n",
              "1          33  Jogging   49106062271000  ...  11.264028  0.953424                  1\n",
              "2          33  Jogging   49106112167000  ...  10.882658 -0.081722                  1\n",
              "3          33  Jogging   49106222305000  ...  18.496431  3.023717                  1\n",
              "4          33  Jogging   49106332290000  ...  12.108489  7.205164                  1\n",
              "...       ...      ...              ...  ...        ...       ...                ...\n",
              "1098199    19  Sitting  131623331483000  ...  -1.570000  1.690000                  2\n",
              "1098200    19  Sitting  131623371431000  ...  -1.460000  1.730000                  2\n",
              "1098201    19  Sitting  131623411592000  ...  -1.380000  1.690000                  2\n",
              "1098202    19  Sitting  131623491487000  ...  -1.460000  1.730000                  2\n",
              "1098203    19  Sitting  131623531465000  ...  -1.330000  1.610000                  2\n",
              "\n",
              "[1098203 rows x 7 columns]"
            ]
          },
          "metadata": {
            "tags": []
          },
          "execution_count": 145
        }
      ]
    },
    {
      "cell_type": "code",
      "metadata": {
        "id": "6IVLxRSCc0VS",
        "colab": {
          "base_uri": "https://localhost:8080/",
          "height": 417
        },
        "outputId": "8140d5de-5e45-4b1c-b31a-4b149b997a1b"
      },
      "source": [
        "mag=np.sqrt(dataset['x-axis']**2+dataset['y-axis']**2+dataset['z-axis']**2)\n",
        "dataset['magnitude']=mag\n",
        "dataset"
      ],
      "execution_count": 146,
      "outputs": [
        {
          "output_type": "execute_result",
          "data": {
            "text/html": [
              "<div>\n",
              "<style scoped>\n",
              "    .dataframe tbody tr th:only-of-type {\n",
              "        vertical-align: middle;\n",
              "    }\n",
              "\n",
              "    .dataframe tbody tr th {\n",
              "        vertical-align: top;\n",
              "    }\n",
              "\n",
              "    .dataframe thead th {\n",
              "        text-align: right;\n",
              "    }\n",
              "</style>\n",
              "<table border=\"1\" class=\"dataframe\">\n",
              "  <thead>\n",
              "    <tr style=\"text-align: right;\">\n",
              "      <th></th>\n",
              "      <th>user</th>\n",
              "      <th>activity</th>\n",
              "      <th>timestamp</th>\n",
              "      <th>x-axis</th>\n",
              "      <th>y-axis</th>\n",
              "      <th>z-axis</th>\n",
              "      <th>labeled_activites</th>\n",
              "      <th>magnitude</th>\n",
              "    </tr>\n",
              "  </thead>\n",
              "  <tbody>\n",
              "    <tr>\n",
              "      <th>0</th>\n",
              "      <td>33</td>\n",
              "      <td>Jogging</td>\n",
              "      <td>49105962326000</td>\n",
              "      <td>-0.694638</td>\n",
              "      <td>12.680544</td>\n",
              "      <td>0.503953</td>\n",
              "      <td>1</td>\n",
              "      <td>12.709551</td>\n",
              "    </tr>\n",
              "    <tr>\n",
              "      <th>1</th>\n",
              "      <td>33</td>\n",
              "      <td>Jogging</td>\n",
              "      <td>49106062271000</td>\n",
              "      <td>5.012288</td>\n",
              "      <td>11.264028</td>\n",
              "      <td>0.953424</td>\n",
              "      <td>1</td>\n",
              "      <td>12.365693</td>\n",
              "    </tr>\n",
              "    <tr>\n",
              "      <th>2</th>\n",
              "      <td>33</td>\n",
              "      <td>Jogging</td>\n",
              "      <td>49106112167000</td>\n",
              "      <td>4.903325</td>\n",
              "      <td>10.882658</td>\n",
              "      <td>-0.081722</td>\n",
              "      <td>1</td>\n",
              "      <td>11.936562</td>\n",
              "    </tr>\n",
              "    <tr>\n",
              "      <th>3</th>\n",
              "      <td>33</td>\n",
              "      <td>Jogging</td>\n",
              "      <td>49106222305000</td>\n",
              "      <td>-0.612916</td>\n",
              "      <td>18.496431</td>\n",
              "      <td>3.023717</td>\n",
              "      <td>1</td>\n",
              "      <td>18.751973</td>\n",
              "    </tr>\n",
              "    <tr>\n",
              "      <th>4</th>\n",
              "      <td>33</td>\n",
              "      <td>Jogging</td>\n",
              "      <td>49106332290000</td>\n",
              "      <td>-1.184970</td>\n",
              "      <td>12.108489</td>\n",
              "      <td>7.205164</td>\n",
              "      <td>1</td>\n",
              "      <td>14.139804</td>\n",
              "    </tr>\n",
              "    <tr>\n",
              "      <th>...</th>\n",
              "      <td>...</td>\n",
              "      <td>...</td>\n",
              "      <td>...</td>\n",
              "      <td>...</td>\n",
              "      <td>...</td>\n",
              "      <td>...</td>\n",
              "      <td>...</td>\n",
              "      <td>...</td>\n",
              "    </tr>\n",
              "    <tr>\n",
              "      <th>1098199</th>\n",
              "      <td>19</td>\n",
              "      <td>Sitting</td>\n",
              "      <td>131623331483000</td>\n",
              "      <td>9.000000</td>\n",
              "      <td>-1.570000</td>\n",
              "      <td>1.690000</td>\n",
              "      <td>2</td>\n",
              "      <td>9.290910</td>\n",
              "    </tr>\n",
              "    <tr>\n",
              "      <th>1098200</th>\n",
              "      <td>19</td>\n",
              "      <td>Sitting</td>\n",
              "      <td>131623371431000</td>\n",
              "      <td>9.040000</td>\n",
              "      <td>-1.460000</td>\n",
              "      <td>1.730000</td>\n",
              "      <td>2</td>\n",
              "      <td>9.319125</td>\n",
              "    </tr>\n",
              "    <tr>\n",
              "      <th>1098201</th>\n",
              "      <td>19</td>\n",
              "      <td>Sitting</td>\n",
              "      <td>131623411592000</td>\n",
              "      <td>9.080000</td>\n",
              "      <td>-1.380000</td>\n",
              "      <td>1.690000</td>\n",
              "      <td>2</td>\n",
              "      <td>9.338463</td>\n",
              "    </tr>\n",
              "    <tr>\n",
              "      <th>1098202</th>\n",
              "      <td>19</td>\n",
              "      <td>Sitting</td>\n",
              "      <td>131623491487000</td>\n",
              "      <td>9.000000</td>\n",
              "      <td>-1.460000</td>\n",
              "      <td>1.730000</td>\n",
              "      <td>2</td>\n",
              "      <td>9.280329</td>\n",
              "    </tr>\n",
              "    <tr>\n",
              "      <th>1098203</th>\n",
              "      <td>19</td>\n",
              "      <td>Sitting</td>\n",
              "      <td>131623531465000</td>\n",
              "      <td>8.880000</td>\n",
              "      <td>-1.330000</td>\n",
              "      <td>1.610000</td>\n",
              "      <td>2</td>\n",
              "      <td>9.122248</td>\n",
              "    </tr>\n",
              "  </tbody>\n",
              "</table>\n",
              "<p>1098203 rows × 8 columns</p>\n",
              "</div>"
            ],
            "text/plain": [
              "         user activity        timestamp  ...    z-axis  labeled_activites  magnitude\n",
              "0          33  Jogging   49105962326000  ...  0.503953                  1  12.709551\n",
              "1          33  Jogging   49106062271000  ...  0.953424                  1  12.365693\n",
              "2          33  Jogging   49106112167000  ... -0.081722                  1  11.936562\n",
              "3          33  Jogging   49106222305000  ...  3.023717                  1  18.751973\n",
              "4          33  Jogging   49106332290000  ...  7.205164                  1  14.139804\n",
              "...       ...      ...              ...  ...       ...                ...        ...\n",
              "1098199    19  Sitting  131623331483000  ...  1.690000                  2   9.290910\n",
              "1098200    19  Sitting  131623371431000  ...  1.730000                  2   9.319125\n",
              "1098201    19  Sitting  131623411592000  ...  1.690000                  2   9.338463\n",
              "1098202    19  Sitting  131623491487000  ...  1.730000                  2   9.280329\n",
              "1098203    19  Sitting  131623531465000  ...  1.610000                  2   9.122248\n",
              "\n",
              "[1098203 rows x 8 columns]"
            ]
          },
          "metadata": {
            "tags": []
          },
          "execution_count": 146
        }
      ]
    },
    {
      "cell_type": "code",
      "metadata": {
        "id": "RoZQWRh8Za8i",
        "colab": {
          "base_uri": "https://localhost:8080/",
          "height": 417
        },
        "outputId": "71172f56-8361-4cd1-e0a9-9b5cbb28e529"
      },
      "source": [
        "train=dataset[dataset['user']<=28]\n",
        "test=dataset[dataset['user']>28]\n",
        "train"
      ],
      "execution_count": 147,
      "outputs": [
        {
          "output_type": "execute_result",
          "data": {
            "text/html": [
              "<div>\n",
              "<style scoped>\n",
              "    .dataframe tbody tr th:only-of-type {\n",
              "        vertical-align: middle;\n",
              "    }\n",
              "\n",
              "    .dataframe tbody tr th {\n",
              "        vertical-align: top;\n",
              "    }\n",
              "\n",
              "    .dataframe thead th {\n",
              "        text-align: right;\n",
              "    }\n",
              "</style>\n",
              "<table border=\"1\" class=\"dataframe\">\n",
              "  <thead>\n",
              "    <tr style=\"text-align: right;\">\n",
              "      <th></th>\n",
              "      <th>user</th>\n",
              "      <th>activity</th>\n",
              "      <th>timestamp</th>\n",
              "      <th>x-axis</th>\n",
              "      <th>y-axis</th>\n",
              "      <th>z-axis</th>\n",
              "      <th>labeled_activites</th>\n",
              "      <th>magnitude</th>\n",
              "    </tr>\n",
              "  </thead>\n",
              "  <tbody>\n",
              "    <tr>\n",
              "      <th>8489</th>\n",
              "      <td>17</td>\n",
              "      <td>Walking</td>\n",
              "      <td>57869902574000</td>\n",
              "      <td>0.572055</td>\n",
              "      <td>9.806650</td>\n",
              "      <td>-0.531194</td>\n",
              "      <td>5</td>\n",
              "      <td>9.837672</td>\n",
              "    </tr>\n",
              "    <tr>\n",
              "      <th>8490</th>\n",
              "      <td>17</td>\n",
              "      <td>Walking</td>\n",
              "      <td>57870012316000</td>\n",
              "      <td>-0.000000</td>\n",
              "      <td>10.188020</td>\n",
              "      <td>-0.572055</td>\n",
              "      <td>5</td>\n",
              "      <td>10.204068</td>\n",
              "    </tr>\n",
              "    <tr>\n",
              "      <th>8491</th>\n",
              "      <td>17</td>\n",
              "      <td>Walking</td>\n",
              "      <td>57870122301000</td>\n",
              "      <td>-0.231546</td>\n",
              "      <td>9.847511</td>\n",
              "      <td>-0.694638</td>\n",
              "      <td>5</td>\n",
              "      <td>9.874695</td>\n",
              "    </tr>\n",
              "    <tr>\n",
              "      <th>8492</th>\n",
              "      <td>17</td>\n",
              "      <td>Walking</td>\n",
              "      <td>57870222246000</td>\n",
              "      <td>0.149824</td>\n",
              "      <td>10.079058</td>\n",
              "      <td>-0.503953</td>\n",
              "      <td>5</td>\n",
              "      <td>10.092761</td>\n",
              "    </tr>\n",
              "    <tr>\n",
              "      <th>8493</th>\n",
              "      <td>17</td>\n",
              "      <td>Walking</td>\n",
              "      <td>57870332292000</td>\n",
              "      <td>0.149824</td>\n",
              "      <td>10.147159</td>\n",
              "      <td>-0.612916</td>\n",
              "      <td>5</td>\n",
              "      <td>10.166757</td>\n",
              "    </tr>\n",
              "    <tr>\n",
              "      <th>...</th>\n",
              "      <td>...</td>\n",
              "      <td>...</td>\n",
              "      <td>...</td>\n",
              "      <td>...</td>\n",
              "      <td>...</td>\n",
              "      <td>...</td>\n",
              "      <td>...</td>\n",
              "      <td>...</td>\n",
              "    </tr>\n",
              "    <tr>\n",
              "      <th>1098199</th>\n",
              "      <td>19</td>\n",
              "      <td>Sitting</td>\n",
              "      <td>131623331483000</td>\n",
              "      <td>9.000000</td>\n",
              "      <td>-1.570000</td>\n",
              "      <td>1.690000</td>\n",
              "      <td>2</td>\n",
              "      <td>9.290910</td>\n",
              "    </tr>\n",
              "    <tr>\n",
              "      <th>1098200</th>\n",
              "      <td>19</td>\n",
              "      <td>Sitting</td>\n",
              "      <td>131623371431000</td>\n",
              "      <td>9.040000</td>\n",
              "      <td>-1.460000</td>\n",
              "      <td>1.730000</td>\n",
              "      <td>2</td>\n",
              "      <td>9.319125</td>\n",
              "    </tr>\n",
              "    <tr>\n",
              "      <th>1098201</th>\n",
              "      <td>19</td>\n",
              "      <td>Sitting</td>\n",
              "      <td>131623411592000</td>\n",
              "      <td>9.080000</td>\n",
              "      <td>-1.380000</td>\n",
              "      <td>1.690000</td>\n",
              "      <td>2</td>\n",
              "      <td>9.338463</td>\n",
              "    </tr>\n",
              "    <tr>\n",
              "      <th>1098202</th>\n",
              "      <td>19</td>\n",
              "      <td>Sitting</td>\n",
              "      <td>131623491487000</td>\n",
              "      <td>9.000000</td>\n",
              "      <td>-1.460000</td>\n",
              "      <td>1.730000</td>\n",
              "      <td>2</td>\n",
              "      <td>9.280329</td>\n",
              "    </tr>\n",
              "    <tr>\n",
              "      <th>1098203</th>\n",
              "      <td>19</td>\n",
              "      <td>Sitting</td>\n",
              "      <td>131623531465000</td>\n",
              "      <td>8.880000</td>\n",
              "      <td>-1.330000</td>\n",
              "      <td>1.610000</td>\n",
              "      <td>2</td>\n",
              "      <td>9.122248</td>\n",
              "    </tr>\n",
              "  </tbody>\n",
              "</table>\n",
              "<p>834780 rows × 8 columns</p>\n",
              "</div>"
            ],
            "text/plain": [
              "         user activity        timestamp  ...    z-axis  labeled_activites  magnitude\n",
              "8489       17  Walking   57869902574000  ... -0.531194                  5   9.837672\n",
              "8490       17  Walking   57870012316000  ... -0.572055                  5  10.204068\n",
              "8491       17  Walking   57870122301000  ... -0.694638                  5   9.874695\n",
              "8492       17  Walking   57870222246000  ... -0.503953                  5  10.092761\n",
              "8493       17  Walking   57870332292000  ... -0.612916                  5  10.166757\n",
              "...       ...      ...              ...  ...       ...                ...        ...\n",
              "1098199    19  Sitting  131623331483000  ...  1.690000                  2   9.290910\n",
              "1098200    19  Sitting  131623371431000  ...  1.730000                  2   9.319125\n",
              "1098201    19  Sitting  131623411592000  ...  1.690000                  2   9.338463\n",
              "1098202    19  Sitting  131623491487000  ...  1.730000                  2   9.280329\n",
              "1098203    19  Sitting  131623531465000  ...  1.610000                  2   9.122248\n",
              "\n",
              "[834780 rows x 8 columns]"
            ]
          },
          "metadata": {
            "tags": []
          },
          "execution_count": 147
        }
      ]
    },
    {
      "cell_type": "code",
      "metadata": {
        "id": "9Vq1hL3VaL0Z"
      },
      "source": [
        "def sliding_window(dataframe,time_steps,steps):\n",
        "  xs=[]\n",
        "  ys=[]\n",
        "  for i in range(0,len(dataframe)-time_steps,steps):\n",
        "    ext_step=i+time_steps\n",
        "    if ext_step>len(dataframe)-1:\n",
        "      break\n",
        "    xi=dataframe['x-axis'].values[i:i+time_steps]\n",
        "    y1=dataframe['y-axis'].values[i:i+time_steps]\n",
        "    z1=dataframe['z-axis'].values[i:i+time_steps]\n",
        "    yi=stats.mode(dataframe['labeled_activites'][i:i+time_steps])[0][0]\n",
        "    xs.append([xi,y1,z1])\n",
        "    ys.append(yi)\n",
        "  return np.asarray(xs),np.asarray(ys)"
      ],
      "execution_count": 148,
      "outputs": []
    },
    {
      "cell_type": "code",
      "metadata": {
        "id": "gVgUU5pWavk8"
      },
      "source": [
        "x_train,y_train=sliding_window(train,90,50)\n",
        "x_test,y_test=sliding_window(test,90,50)"
      ],
      "execution_count": 149,
      "outputs": []
    },
    {
      "cell_type": "code",
      "metadata": {
        "colab": {
          "base_uri": "https://localhost:8080/"
        },
        "id": "hw_LuhOSp3Za",
        "outputId": "fa30773a-ab55-4d0b-b56f-d1ae37ccc558"
      },
      "source": [
        "x_train.shape"
      ],
      "execution_count": 150,
      "outputs": [
        {
          "output_type": "execute_result",
          "data": {
            "text/plain": [
              "(16694, 3, 90)"
            ]
          },
          "metadata": {
            "tags": []
          },
          "execution_count": 150
        }
      ]
    },
    {
      "cell_type": "code",
      "metadata": {
        "id": "uCeO-tKvdypB"
      },
      "source": [
        "x_train=x_train.reshape(-1,90,3).astype(np.float32)\n",
        "x_test=x_test.reshape(-1,90,3).astype(np.float32)"
      ],
      "execution_count": 151,
      "outputs": []
    },
    {
      "cell_type": "code",
      "metadata": {
        "id": "GGEvyyW0wgHx"
      },
      "source": [
        "x_train=(x_train-x_train.mean())/x_train.std()\n",
        "x_test=(x_test-x_test.mean())/x_test.std()"
      ],
      "execution_count": 152,
      "outputs": []
    },
    {
      "cell_type": "code",
      "metadata": {
        "id": "7O5di-8-dZ3w"
      },
      "source": [
        "def create_model():\n",
        "  model=keras.models.Sequential([tf.keras.layers.Input(shape=[90,3]),\n",
        "      tf.keras.layers.BatchNormalization(),\n",
        "      tf.keras.layers.Conv1D(32,3,strides=2,padding=\"same\"),\n",
        "      tf.keras.layers.MaxPool1D(),\n",
        "      tf.keras.layers.BatchNormalization(),\n",
        "     tf.keras.layers.Conv1D(64,3,strides=1,padding=\"same\"),\n",
        "      tf.keras.layers.MaxPool1D(),\n",
        "      tf.keras.layers.BatchNormalization(),\n",
        "     tf.keras.layers.Conv1D(128,3,strides=1,padding=\"same\"),\n",
        "      tf.keras.layers.MaxPool1D(),\n",
        "    tf.keras.layers.GRU(128,return_sequences=True,recurrent_dropout=0.2),\n",
        "    tf.keras.layers.GRU(128,return_sequences=False),\n",
        "    tf.keras.layers.Dropout(0.5),\n",
        "    tf.keras.layers.Dense(6,activation=\"softmax\")\n",
        "\n",
        "                               ])\n",
        "  return model"
      ],
      "execution_count": 171,
      "outputs": []
    },
    {
      "cell_type": "code",
      "metadata": {
        "id": "mb395nn_d2__",
        "colab": {
          "base_uri": "https://localhost:8080/"
        },
        "outputId": "fdc34173-782c-4688-df02-f477912d9b97"
      },
      "source": [
        "disturbution=tf.distribute.experimental.CentralStorageStrategy()\n",
        "with disturbution.scope():\n",
        "  model=create_model()\n",
        "  model.summary()\n",
        "  model.compile(loss='categorical_crossentropy',optimizer=tf.keras.optimizers.Adam(learning_rate=0.0001),metrics=['accuracy'])\n",
        "  "
      ],
      "execution_count": 176,
      "outputs": [
        {
          "output_type": "stream",
          "text": [
            "INFO:tensorflow:ParameterServerStrategy (CentralStorageStrategy if you are using a single machine) with compute_devices = ['/job:localhost/replica:0/task:0/device:GPU:0'], variable_device = '/job:localhost/replica:0/task:0/device:GPU:0'\n",
            "WARNING:tensorflow:Layer gru_40 will not use cuDNN kernels since it doesn't meet the criteria. It will use a generic GPU kernel as fallback when running on GPU.\n",
            "WARNING:tensorflow:Please add `keras.layers.InputLayer` instead of `keras.Input` to Sequential model. `keras.Input` is intended to be used by Functional model.\n",
            "Model: \"sequential_20\"\n",
            "_________________________________________________________________\n",
            "Layer (type)                 Output Shape              Param #   \n",
            "=================================================================\n",
            "batch_normalization_76 (Batc (None, 90, 3)             12        \n",
            "_________________________________________________________________\n",
            "conv1d_63 (Conv1D)           (None, 45, 32)            320       \n",
            "_________________________________________________________________\n",
            "max_pooling1d_51 (MaxPooling (None, 22, 32)            0         \n",
            "_________________________________________________________________\n",
            "batch_normalization_77 (Batc (None, 22, 32)            128       \n",
            "_________________________________________________________________\n",
            "conv1d_64 (Conv1D)           (None, 22, 64)            6208      \n",
            "_________________________________________________________________\n",
            "max_pooling1d_52 (MaxPooling (None, 11, 64)            0         \n",
            "_________________________________________________________________\n",
            "batch_normalization_78 (Batc (None, 11, 64)            256       \n",
            "_________________________________________________________________\n",
            "conv1d_65 (Conv1D)           (None, 11, 128)           24704     \n",
            "_________________________________________________________________\n",
            "max_pooling1d_53 (MaxPooling (None, 5, 128)            0         \n",
            "_________________________________________________________________\n",
            "gru_40 (GRU)                 (None, 5, 128)            99072     \n",
            "_________________________________________________________________\n",
            "gru_41 (GRU)                 (None, 128)               99072     \n",
            "_________________________________________________________________\n",
            "dropout_6 (Dropout)          (None, 128)               0         \n",
            "_________________________________________________________________\n",
            "dense_23 (Dense)             (None, 6)                 774       \n",
            "=================================================================\n",
            "Total params: 230,546\n",
            "Trainable params: 230,348\n",
            "Non-trainable params: 198\n",
            "_________________________________________________________________\n"
          ],
          "name": "stdout"
        }
      ]
    },
    {
      "cell_type": "code",
      "metadata": {
        "id": "1YGLDK7bs14h"
      },
      "source": [
        "Y_train=keras.utils.to_categorical(y_train,num_classes=6)\n",
        "Y_test=keras.utils.to_categorical(y_test,num_classes=6)"
      ],
      "execution_count": 177,
      "outputs": []
    },
    {
      "cell_type": "code",
      "metadata": {
        "id": "zGBDXtegd7rb"
      },
      "source": [
        "checkpoint=keras.callbacks.ModelCheckpoint(\n",
        "        filepath='best_model.{epoch:02d}-{val_loss:.2f}.h5',\n",
        "        monitor='val_loss', save_best_only=True),\n",
        "early_stopping=keras.callbacks.EarlyStopping(monitor='val_loss', min_delta=0.01, patience=1, verbose=1, mode='auto', baseline=None, restore_best_weights=True)\n",
        "\n",
        "reduce_LOP=tf.keras.callbacks.ReduceLROnPlateau(monitor='val_loss', factor=0.1, patience=2, verbose=1, mode='auto', min_delta=0.01, cooldown=0, min_lr=0.001)\n",
        "Callbacks=[checkpoint,reduce_LOP]\n"
      ],
      "execution_count": 178,
      "outputs": []
    },
    {
      "cell_type": "code",
      "metadata": {
        "id": "w4stk-kahfm9",
        "colab": {
          "base_uri": "https://localhost:8080/"
        },
        "outputId": "030ae38b-26e3-4800-ac6d-57723991d376"
      },
      "source": [
        "history=model.fit(x_train,Y_train,batch_size=16,epochs=10,verbose=1,validation_data=(x_test,Y_test),callbacks=Callbacks)"
      ],
      "execution_count": 179,
      "outputs": [
        {
          "output_type": "stream",
          "text": [
            "Epoch 1/10\n",
            "1044/1044 [==============================] - 33s 26ms/step - loss: 0.6687 - accuracy: 0.7687 - val_loss: 0.5594 - val_accuracy: 0.8096\n",
            "Epoch 2/10\n",
            "1044/1044 [==============================] - 25s 24ms/step - loss: 0.4419 - accuracy: 0.8398 - val_loss: 0.5302 - val_accuracy: 0.8215\n",
            "Epoch 3/10\n",
            "1044/1044 [==============================] - 26s 24ms/step - loss: 0.3591 - accuracy: 0.8689 - val_loss: 0.4901 - val_accuracy: 0.8477\n",
            "Epoch 4/10\n",
            "1044/1044 [==============================] - 25s 24ms/step - loss: 0.3055 - accuracy: 0.8921 - val_loss: 0.5052 - val_accuracy: 0.8532\n",
            "Epoch 5/10\n",
            "1044/1044 [==============================] - 25s 24ms/step - loss: 0.2600 - accuracy: 0.9078 - val_loss: 0.4720 - val_accuracy: 0.8625\n",
            "Epoch 6/10\n",
            "1044/1044 [==============================] - 25s 24ms/step - loss: 0.2247 - accuracy: 0.9217 - val_loss: 0.5084 - val_accuracy: 0.8610\n",
            "Epoch 7/10\n",
            "1044/1044 [==============================] - 26s 25ms/step - loss: 0.2032 - accuracy: 0.9293 - val_loss: 0.4779 - val_accuracy: 0.8625\n",
            "Epoch 8/10\n",
            "1044/1044 [==============================] - 25s 24ms/step - loss: 0.1793 - accuracy: 0.9367 - val_loss: 0.4797 - val_accuracy: 0.8808\n",
            "Epoch 9/10\n",
            "1044/1044 [==============================] - 24s 23ms/step - loss: 0.1696 - accuracy: 0.9411 - val_loss: 0.4711 - val_accuracy: 0.8709\n",
            "Epoch 10/10\n",
            "1044/1044 [==============================] - 25s 24ms/step - loss: 0.1468 - accuracy: 0.9480 - val_loss: 0.4993 - val_accuracy: 0.8667\n"
          ],
          "name": "stdout"
        }
      ]
    },
    {
      "cell_type": "code",
      "metadata": {
        "id": "tySmt9vH5o8C"
      },
      "source": [
        "import matplotlib.pyplot as plt\n"
      ],
      "execution_count": 180,
      "outputs": []
    },
    {
      "cell_type": "code",
      "metadata": {
        "colab": {
          "base_uri": "https://localhost:8080/",
          "height": 297
        },
        "id": "7VbGyU_T5vlj",
        "outputId": "ddebebe0-6c9c-47bd-b83f-f60a56e232d5"
      },
      "source": [
        "plt.plot(history.history['accuracy'],label='accuracy')\n",
        "plt.plot(history.history['val_accuracy'],label='valid-accuracy')\n",
        "plt.legend()\n",
        "plt.xlabel(\"Epochs\")\n",
        "plt.ylabel(\"accuracy\")"
      ],
      "execution_count": 181,
      "outputs": [
        {
          "output_type": "execute_result",
          "data": {
            "text/plain": [
              "Text(0, 0.5, 'accuracy')"
            ]
          },
          "metadata": {
            "tags": []
          },
          "execution_count": 181
        },
        {
          "output_type": "display_data",
          "data": {
            "image/png": "[encoded data removed]",
            "text/plain": [
              "<Figure size 432x288 with 1 Axes>"
            ]
          },
          "metadata": {
            "tags": [],
            "needs_background": "light"
          }
        }
      ]
    },
    {
      "cell_type": "code",
      "metadata": {
        "colab": {
          "base_uri": "https://localhost:8080/",
          "height": 297
        },
        "id": "jpzdwYP65-5K",
        "outputId": "8654b04d-76e4-4457-87c6-459a6dbcd0a6"
      },
      "source": [
        "plt.plot(history.history['loss'],label='loss')\n",
        "plt.plot(history.history['val_loss'],label='valid-loss')\n",
        "plt.legend()\n",
        "plt.xlabel(\"Epochs\")\n",
        "plt.ylabel(\"Loss\")"
      ],
      "execution_count": 182,
      "outputs": [
        {
          "output_type": "execute_result",
          "data": {
            "text/plain": [
              "Text(0, 0.5, 'Loss')"
            ]
          },
          "metadata": {
            "tags": []
          },
          "execution_count": 182
        },
        {
          "output_type": "display_data",
          "data": {
            "image/png": "[encoded data removed]",
            "text/plain": [
              "<Figure size 432x288 with 1 Axes>"
            ]
          },
          "metadata": {
            "tags": [],
            "needs_background": "light"
          }
        }
      ]
    },
    {
      "cell_type": "code",
      "metadata": {
        "id": "2Xdk6UIziM8I",
        "colab": {
          "base_uri": "https://localhost:8080/"
        },
        "outputId": "f2204bd4-c0ca-4363-d011-4778ae039c55"
      },
      "source": [
        "pred_test=model.predict(x_test)\n",
        "pred_test"
      ],
      "execution_count": 183,
      "outputs": [
        {
          "output_type": "execute_result",
          "data": {
            "text/plain": [
              "array([[3.29944380e-02, 9.66323197e-01, 1.35692419e-04, 3.59637081e-04,\n",
              "        1.57457296e-04, 2.96751532e-05],\n",
              "       [1.20557542e-03, 9.97926593e-01, 2.55652441e-04, 9.73842252e-05,\n",
              "        4.66442580e-04, 4.83344120e-05],\n",
              "       [6.85845211e-04, 9.98600185e-01, 1.09489578e-04, 1.20296769e-04,\n",
              "        3.74156458e-04, 1.10166402e-04],\n",
              "       ...,\n",
              "       [1.34842383e-04, 1.53600425e-03, 9.35878754e-01, 5.74331805e-02,\n",
              "        3.93484160e-03, 1.08234724e-03],\n",
              "       [1.12789436e-04, 1.01999938e-03, 9.44047213e-01, 5.23280092e-02,\n",
              "        1.66042917e-03, 8.31572746e-04],\n",
              "       [1.32976013e-04, 1.40676880e-03, 9.34796929e-01, 5.93063906e-02,\n",
              "        3.17802746e-03, 1.17889279e-03]], dtype=float32)"
            ]
          },
          "metadata": {
            "tags": []
          },
          "execution_count": 183
        }
      ]
    },
    {
      "cell_type": "code",
      "metadata": {
        "id": "yqgHt-8CiPVC",
        "colab": {
          "base_uri": "https://localhost:8080/"
        },
        "outputId": "e38ffad3-fef4-44ff-df4a-6e57e82f9b5e"
      },
      "source": [
        "Y_test"
      ],
      "execution_count": 184,
      "outputs": [
        {
          "output_type": "execute_result",
          "data": {
            "text/plain": [
              "array([[0., 1., 0., 0., 0., 0.],\n",
              "       [0., 1., 0., 0., 0., 0.],\n",
              "       [0., 1., 0., 0., 0., 0.],\n",
              "       ...,\n",
              "       [0., 0., 0., 1., 0., 0.],\n",
              "       [0., 0., 0., 1., 0., 0.],\n",
              "       [0., 0., 0., 1., 0., 0.]], dtype=float32)"
            ]
          },
          "metadata": {
            "tags": []
          },
          "execution_count": 184
        }
      ]
    },
    {
      "cell_type": "code",
      "metadata": {
        "id": "FNbYqgGViV6v"
      },
      "source": [
        "from sklearn import metrics\n",
        "from sklearn.metrics import classification_report\n",
        "from sklearn import preprocessing\n",
        "import seaborn as sns"
      ],
      "execution_count": 185,
      "outputs": []
    },
    {
      "cell_type": "code",
      "metadata": {
        "id": "UisyU0CVic5G",
        "colab": {
          "base_uri": "https://localhost:8080/"
        },
        "outputId": "2f689944-b3bb-420c-8fa9-e66e82833eb3"
      },
      "source": [
        "y_pred_test=np.argmax(pred_test,axis=1)\n",
        "print(y_pred_test)\n",
        "print(y_test)"
      ],
      "execution_count": 186,
      "outputs": [
        {
          "output_type": "stream",
          "text": [
            "[1 1 1 ... 2 2 2]\n",
            "[1 1 1 ... 3 3 3]\n"
          ],
          "name": "stdout"
        }
      ]
    },
    {
      "cell_type": "code",
      "metadata": {
        "id": "sMYw3CjIigTd",
        "colab": {
          "base_uri": "https://localhost:8080/",
          "height": 329
        },
        "outputId": "f6fd85c9-c38f-4de2-eadd-b0d7328c020e"
      },
      "source": [
        "confusion_matrix=metrics.confusion_matrix(y_test,y_pred_test)\n",
        "sns.heatmap(confusion_matrix,cmap='coolwarm',linecolor='white',xticklabels=LABELS,yticklabels=LABELS,annot=True)"
      ],
      "execution_count": 187,
      "outputs": [
        {
          "output_type": "execute_result",
          "data": {
            "text/plain": [
              "<matplotlib.axes._subplots.AxesSubplot at 0x7f30cd3efb10>"
            ]
          },
          "metadata": {
            "tags": []
          },
          "execution_count": 187
        },
        {
          "output_type": "display_data",
          "data": {
            "image/png": "[encoded data removed]",
            "text/plain": [
              "<Figure size 432x288 with 2 Axes>"
            ]
          },
          "metadata": {
            "tags": [],
            "needs_background": "light"
          }
        }
      ]
    },
    {
      "cell_type": "code",
      "metadata": {
        "id": "6ygBDS-Hij2v",
        "colab": {
          "base_uri": "https://localhost:8080/"
        },
        "outputId": "1c94c0ff-04ec-4452-cc65-d72784ebab98"
      },
      "source": [
        "print(classification_report(y_test,y_pred_test,target_names=LABELS))"
      ],
      "execution_count": 188,
      "outputs": [
        {
          "output_type": "stream",
          "text": [
            "              precision    recall  f1-score   support\n",
            "\n",
            "  Downstairs       0.71      0.58      0.64       521\n",
            "     Jogging       0.95      0.97      0.96      1588\n",
            "     Sitting       0.79      0.99      0.88       362\n",
            "    Standing       0.94      0.67      0.78       296\n",
            "    Upstairs       0.77      0.72      0.74       580\n",
            "     Walking       0.87      0.91      0.89      1920\n",
            "\n",
            "    accuracy                           0.87      5267\n",
            "   macro avg       0.84      0.81      0.81      5267\n",
            "weighted avg       0.87      0.87      0.86      5267\n",
            "\n"
          ],
          "name": "stdout"
        }
      ]
    },
    {
      "cell_type": "code",
      "metadata": {
        "id": "xsY9hUd_i1Z6"
      },
      "source": [
        ""
      ],
      "execution_count": null,
      "outputs": []
    }
  ]
}